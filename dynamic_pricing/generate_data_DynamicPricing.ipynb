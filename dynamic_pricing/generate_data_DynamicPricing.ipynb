{
  "nbformat": 4,
  "nbformat_minor": 0,
  "metadata": {
    "colab": {
      "name": "generate_data_DynamicPricing.ipynb",
      "provenance": []
    },
    "kernelspec": {
      "name": "python3",
      "display_name": "Python 3"
    },
    "language_info": {
      "name": "python"
    }
  },
  "cells": [
    {
      "cell_type": "code",
      "execution_count": 1,
      "metadata": {
        "id": "2VyLEIQVVtGB"
      },
      "outputs": [],
      "source": [
        "import random\n",
        "import csv\n",
        "import math"
      ]
    },
    {
      "cell_type": "code",
      "source": [
        "list_data = []\n",
        "for _ in range(5000):\n",
        "  week = random.randint(0, 1)\n",
        "  enter_hour = random.uniform(0.001, 0.72)\n",
        "  spent = random.uniform(0.001, 0.72)\n",
        "\n",
        "  list_weekday = []\n",
        "  if week == 0: # weekday\n",
        "    if enter_hour <= 0.18: # 9am - 12pm\n",
        "      list_weekday.extend([week, enter_hour, spent, (spent - spent*0.2)*2])\n",
        "    if enter_hour > 0.18 and enter_hour <= 0.36: # 12pm - 3pm\n",
        "      list_weekday.extend([week, enter_hour, spent, spent*2])\n",
        "    if enter_hour > 0.36 and enter_hour <= 0.72: # 3pm - 9pm\n",
        "      list_weekday.extend([week, enter_hour, spent, (spent + spent*0.2)*2])\n",
        "  if list_weekday != []:\n",
        "    list_data.append(list_weekday)\n",
        "\n",
        "  list_weekend = []\n",
        "  if week == 1: # weekend\n",
        "    if enter_hour <= 0.18: # 9am - 12pm\n",
        "      list_weekend.extend([week, enter_hour, spent, spent*2])\n",
        "    if enter_hour > 0.18 and enter_hour <= 0.36: # 12pm - 3pm\n",
        "      list_weekend.extend([week, enter_hour, spent, (spent + spent*0.2)*2])\n",
        "    if enter_hour > 0.36 and enter_hour <= 0.72: # 3pm - 9pm\n",
        "      list_weekend.extend([week, enter_hour, spent, (spent + spent*0.4)*2])\n",
        "  if list_weekend != []:\n",
        "    list_data.append(list_weekend)"
      ],
      "metadata": {
        "id": "jjjcm9KxV_Yj"
      },
      "execution_count": 54,
      "outputs": []
    },
    {
      "cell_type": "code",
      "source": [
        "sample = list_data[:5]  \n",
        "for x, y in enumerate(sample):\n",
        "  item = sample[x]\n",
        "  new_list = []\n",
        "  \n",
        "  conv_enter_hour = item[1]/0.06+9 # minutes divide by 0.06 (1 hours) add 9 (ex: 180 minutes = 3 hours, 3 + 9 = 12 pm)\n",
        "  \n",
        "  conv_spent = item[2]/0.06\n",
        "  min_conv_spent = math.modf(conv_spent)\n",
        "  hours_spent = min_conv_spent[1]\n",
        "  minutes_spent = min_conv_spent[0]*60\n",
        "  \n",
        "  week = \"day\" if item[0] == 0 else \"end\"\n",
        "  enter_hour = \"{:.0f} pm\".format(conv_enter_hour-12) if item[1] > 0.18 else \"{:.0f} am\".format(conv_enter_hour)\n",
        "  spent_hours = \"{:.0f} hours, {:.0f} minutes\".format(hours_spent, minutes_spent)\n",
        "  fee = item[3]*10\n",
        "\n",
        "  print(\"week: {}, enter_hour: {}, spent_hours: {}, fee: ${:.2f}\".format(week, enter_hour, spent_hours, fee))"
      ],
      "metadata": {
        "colab": {
          "base_uri": "https://localhost:8080/"
        },
        "id": "G0bY1WUiLdcD",
        "outputId": "371c0c27-15cf-43f6-8774-b096fd366e43"
      },
      "execution_count": 56,
      "outputs": [
        {
          "output_type": "stream",
          "name": "stdout",
          "text": [
            "week: end, enter_hour: 11 am, spent_hours: 11 hours, 8 minutes, fee: $13.37\n",
            "week: end, enter_hour: 10 am, spent_hours: 11 hours, 4 minutes, fee: $13.27\n",
            "week: end, enter_hour: 2 pm, spent_hours: 11 hours, 9 minutes, fee: $16.05\n",
            "week: end, enter_hour: 11 am, spent_hours: 6 hours, 34 minutes, fee: $7.89\n",
            "week: day, enter_hour: 1 pm, spent_hours: 2 hours, 52 minutes, fee: $3.45\n"
          ]
        }
      ]
    },
    {
      "cell_type": "code",
      "source": [
        "header = ['week', 'enter_hour', 'spent_hours', 'fee']\n",
        "data = list_data\n",
        "\n",
        "with open('dynamic.csv', 'w', encoding='UTF8', newline='') as f:\n",
        "    writer = csv.writer(f)\n",
        "\n",
        "    # write the header\n",
        "    writer.writerow(header)\n",
        "\n",
        "    # write multiple rows\n",
        "    writer.writerows(data)"
      ],
      "metadata": {
        "id": "7dpHFMtXi0G4"
      },
      "execution_count": 39,
      "outputs": []
    }
  ]
}