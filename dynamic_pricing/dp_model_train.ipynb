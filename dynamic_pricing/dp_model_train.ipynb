{
  "nbformat": 4,
  "nbformat_minor": 0,
  "metadata": {
    "colab": {
      "name": "model_DynamicPricing.ipynb",
      "provenance": []
    },
    "kernelspec": {
      "name": "python3",
      "display_name": "Python 3"
    },
    "language_info": {
      "name": "python"
    }
  },
  "cells": [
    {
      "cell_type": "code",
      "execution_count": 1,
      "metadata": {
        "id": "xCK6PZ5vIroI",
        "colab": {
          "base_uri": "https://localhost:8080/"
        },
        "outputId": "5aec782d-ef9f-4dbf-bcca-3b4e8a2b8d8d"
      },
      "outputs": [
        {
          "output_type": "stream",
          "name": "stdout",
          "text": [
            "Mounted at /content/drive\n"
          ]
        }
      ],
      "source": [
        "from google.colab import drive\n",
        "drive.mount('/content/drive')"
      ]
    },
    {
      "cell_type": "code",
      "source": [
        "import tensorflow as tf\n",
        "import pandas as pd\n",
        "import matplotlib.pyplot as plt"
      ],
      "metadata": {
        "id": "x7DiVCgBIuLp"
      },
      "execution_count": 2,
      "outputs": []
    },
    {
      "cell_type": "code",
      "source": [
        "df = pd.read_csv('/content/drive/MyDrive/dataset/capstone_dynamic/dynamic.csv', delimiter=',', header=None, skiprows=1)"
      ],
      "metadata": {
        "id": "cca1NaAmfU19"
      },
      "execution_count": 3,
      "outputs": []
    },
    {
      "cell_type": "code",
      "source": [
        "df.head()"
      ],
      "metadata": {
        "colab": {
          "base_uri": "https://localhost:8080/",
          "height": 206
        },
        "id": "6baf1bwVfmUK",
        "outputId": "54932989-9ee3-4ef7-f01d-0709e4948321"
      },
      "execution_count": 4,
      "outputs": [
        {
          "output_type": "execute_result",
          "data": {
            "text/plain": [
              "   0         1         2         3\n",
              "0  0  0.600890  0.511320  1.227168\n",
              "1  0  0.151806  0.099007  0.158411\n",
              "2  0  0.444629  0.679138  1.629932\n",
              "3  1  0.033840  0.204071  0.408143\n",
              "4  0  0.465516  0.202439  0.485853"
            ],
            "text/html": [
              "\n",
              "  <div id=\"df-b79f8fdd-d98b-428d-a24e-ff9c664181b2\">\n",
              "    <div class=\"colab-df-container\">\n",
              "      <div>\n",
              "<style scoped>\n",
              "    .dataframe tbody tr th:only-of-type {\n",
              "        vertical-align: middle;\n",
              "    }\n",
              "\n",
              "    .dataframe tbody tr th {\n",
              "        vertical-align: top;\n",
              "    }\n",
              "\n",
              "    .dataframe thead th {\n",
              "        text-align: right;\n",
              "    }\n",
              "</style>\n",
              "<table border=\"1\" class=\"dataframe\">\n",
              "  <thead>\n",
              "    <tr style=\"text-align: right;\">\n",
              "      <th></th>\n",
              "      <th>0</th>\n",
              "      <th>1</th>\n",
              "      <th>2</th>\n",
              "      <th>3</th>\n",
              "    </tr>\n",
              "  </thead>\n",
              "  <tbody>\n",
              "    <tr>\n",
              "      <th>0</th>\n",
              "      <td>0</td>\n",
              "      <td>0.600890</td>\n",
              "      <td>0.511320</td>\n",
              "      <td>1.227168</td>\n",
              "    </tr>\n",
              "    <tr>\n",
              "      <th>1</th>\n",
              "      <td>0</td>\n",
              "      <td>0.151806</td>\n",
              "      <td>0.099007</td>\n",
              "      <td>0.158411</td>\n",
              "    </tr>\n",
              "    <tr>\n",
              "      <th>2</th>\n",
              "      <td>0</td>\n",
              "      <td>0.444629</td>\n",
              "      <td>0.679138</td>\n",
              "      <td>1.629932</td>\n",
              "    </tr>\n",
              "    <tr>\n",
              "      <th>3</th>\n",
              "      <td>1</td>\n",
              "      <td>0.033840</td>\n",
              "      <td>0.204071</td>\n",
              "      <td>0.408143</td>\n",
              "    </tr>\n",
              "    <tr>\n",
              "      <th>4</th>\n",
              "      <td>0</td>\n",
              "      <td>0.465516</td>\n",
              "      <td>0.202439</td>\n",
              "      <td>0.485853</td>\n",
              "    </tr>\n",
              "  </tbody>\n",
              "</table>\n",
              "</div>\n",
              "      <button class=\"colab-df-convert\" onclick=\"convertToInteractive('df-b79f8fdd-d98b-428d-a24e-ff9c664181b2')\"\n",
              "              title=\"Convert this dataframe to an interactive table.\"\n",
              "              style=\"display:none;\">\n",
              "        \n",
              "  <svg xmlns=\"http://www.w3.org/2000/svg\" height=\"24px\"viewBox=\"0 0 24 24\"\n",
              "       width=\"24px\">\n",
              "    <path d=\"M0 0h24v24H0V0z\" fill=\"none\"/>\n",
              "    <path d=\"M18.56 5.44l.94 2.06.94-2.06 2.06-.94-2.06-.94-.94-2.06-.94 2.06-2.06.94zm-11 1L8.5 8.5l.94-2.06 2.06-.94-2.06-.94L8.5 2.5l-.94 2.06-2.06.94zm10 10l.94 2.06.94-2.06 2.06-.94-2.06-.94-.94-2.06-.94 2.06-2.06.94z\"/><path d=\"M17.41 7.96l-1.37-1.37c-.4-.4-.92-.59-1.43-.59-.52 0-1.04.2-1.43.59L10.3 9.45l-7.72 7.72c-.78.78-.78 2.05 0 2.83L4 21.41c.39.39.9.59 1.41.59.51 0 1.02-.2 1.41-.59l7.78-7.78 2.81-2.81c.8-.78.8-2.07 0-2.86zM5.41 20L4 18.59l7.72-7.72 1.47 1.35L5.41 20z\"/>\n",
              "  </svg>\n",
              "      </button>\n",
              "      \n",
              "  <style>\n",
              "    .colab-df-container {\n",
              "      display:flex;\n",
              "      flex-wrap:wrap;\n",
              "      gap: 12px;\n",
              "    }\n",
              "\n",
              "    .colab-df-convert {\n",
              "      background-color: #E8F0FE;\n",
              "      border: none;\n",
              "      border-radius: 50%;\n",
              "      cursor: pointer;\n",
              "      display: none;\n",
              "      fill: #1967D2;\n",
              "      height: 32px;\n",
              "      padding: 0 0 0 0;\n",
              "      width: 32px;\n",
              "    }\n",
              "\n",
              "    .colab-df-convert:hover {\n",
              "      background-color: #E2EBFA;\n",
              "      box-shadow: 0px 1px 2px rgba(60, 64, 67, 0.3), 0px 1px 3px 1px rgba(60, 64, 67, 0.15);\n",
              "      fill: #174EA6;\n",
              "    }\n",
              "\n",
              "    [theme=dark] .colab-df-convert {\n",
              "      background-color: #3B4455;\n",
              "      fill: #D2E3FC;\n",
              "    }\n",
              "\n",
              "    [theme=dark] .colab-df-convert:hover {\n",
              "      background-color: #434B5C;\n",
              "      box-shadow: 0px 1px 3px 1px rgba(0, 0, 0, 0.15);\n",
              "      filter: drop-shadow(0px 1px 2px rgba(0, 0, 0, 0.3));\n",
              "      fill: #FFFFFF;\n",
              "    }\n",
              "  </style>\n",
              "\n",
              "      <script>\n",
              "        const buttonEl =\n",
              "          document.querySelector('#df-b79f8fdd-d98b-428d-a24e-ff9c664181b2 button.colab-df-convert');\n",
              "        buttonEl.style.display =\n",
              "          google.colab.kernel.accessAllowed ? 'block' : 'none';\n",
              "\n",
              "        async function convertToInteractive(key) {\n",
              "          const element = document.querySelector('#df-b79f8fdd-d98b-428d-a24e-ff9c664181b2');\n",
              "          const dataTable =\n",
              "            await google.colab.kernel.invokeFunction('convertToInteractive',\n",
              "                                                     [key], {});\n",
              "          if (!dataTable) return;\n",
              "\n",
              "          const docLinkHtml = 'Like what you see? Visit the ' +\n",
              "            '<a target=\"_blank\" href=https://colab.research.google.com/notebooks/data_table.ipynb>data table notebook</a>'\n",
              "            + ' to learn more about interactive tables.';\n",
              "          element.innerHTML = '';\n",
              "          dataTable['output_type'] = 'display_data';\n",
              "          await google.colab.output.renderOutput(dataTable, element);\n",
              "          const docLink = document.createElement('div');\n",
              "          docLink.innerHTML = docLinkHtml;\n",
              "          element.appendChild(docLink);\n",
              "        }\n",
              "      </script>\n",
              "    </div>\n",
              "  </div>\n",
              "  "
            ]
          },
          "metadata": {},
          "execution_count": 4
        }
      ]
    },
    {
      "cell_type": "code",
      "source": [
        "x = df.iloc[:, :3]\n",
        "y = df.iloc[:, 3:]"
      ],
      "metadata": {
        "id": "QJ4fGcnTiIZ7"
      },
      "execution_count": 5,
      "outputs": []
    },
    {
      "cell_type": "code",
      "source": [
        "model = tf.keras.models.Sequential([tf.keras.layers.Dense(1, input_dim=3)])\n",
        "model.compile(loss = 'mse', optimizer='sgd', metrics=['mse'])\n",
        "history = model.fit(x, y, epochs=100, verbose=1)"
      ],
      "metadata": {
        "id": "BxY54WlJgmNy",
        "colab": {
          "base_uri": "https://localhost:8080/"
        },
        "outputId": "715434fb-d400-4700-c149-a7e222cf7786"
      },
      "execution_count": 6,
      "outputs": [
        {
          "output_type": "stream",
          "name": "stdout",
          "text": [
            "Epoch 1/100\n",
            "157/157 [==============================] - 1s 1ms/step - loss: 0.2028 - mse: 0.2028\n",
            "Epoch 2/100\n",
            "157/157 [==============================] - 0s 1ms/step - loss: 0.1304 - mse: 0.1304\n",
            "Epoch 3/100\n",
            "157/157 [==============================] - 0s 1ms/step - loss: 0.1036 - mse: 0.1036\n",
            "Epoch 4/100\n",
            "157/157 [==============================] - 0s 1ms/step - loss: 0.0830 - mse: 0.0830\n",
            "Epoch 5/100\n",
            "157/157 [==============================] - 0s 1ms/step - loss: 0.0670 - mse: 0.0670\n",
            "Epoch 6/100\n",
            "157/157 [==============================] - 0s 1ms/step - loss: 0.0544 - mse: 0.0544\n",
            "Epoch 7/100\n",
            "157/157 [==============================] - 0s 1ms/step - loss: 0.0446 - mse: 0.0446\n",
            "Epoch 8/100\n",
            "157/157 [==============================] - 0s 2ms/step - loss: 0.0368 - mse: 0.0368\n",
            "Epoch 9/100\n",
            "157/157 [==============================] - 0s 1ms/step - loss: 0.0308 - mse: 0.0308\n",
            "Epoch 10/100\n",
            "157/157 [==============================] - 0s 1ms/step - loss: 0.0261 - mse: 0.0261\n",
            "Epoch 11/100\n",
            "157/157 [==============================] - 0s 1ms/step - loss: 0.0223 - mse: 0.0223\n",
            "Epoch 12/100\n",
            "157/157 [==============================] - 0s 1ms/step - loss: 0.0194 - mse: 0.0194\n",
            "Epoch 13/100\n",
            "157/157 [==============================] - 0s 1ms/step - loss: 0.0171 - mse: 0.0171\n",
            "Epoch 14/100\n",
            "157/157 [==============================] - 0s 1ms/step - loss: 0.0153 - mse: 0.0153\n",
            "Epoch 15/100\n",
            "157/157 [==============================] - 0s 1ms/step - loss: 0.0139 - mse: 0.0139\n",
            "Epoch 16/100\n",
            "157/157 [==============================] - 0s 1ms/step - loss: 0.0128 - mse: 0.0128\n",
            "Epoch 17/100\n",
            "157/157 [==============================] - 0s 1ms/step - loss: 0.0119 - mse: 0.0119\n",
            "Epoch 18/100\n",
            "157/157 [==============================] - 0s 1ms/step - loss: 0.0112 - mse: 0.0112\n",
            "Epoch 19/100\n",
            "157/157 [==============================] - 0s 1ms/step - loss: 0.0107 - mse: 0.0107\n",
            "Epoch 20/100\n",
            "157/157 [==============================] - 0s 1ms/step - loss: 0.0102 - mse: 0.0102\n",
            "Epoch 21/100\n",
            "157/157 [==============================] - 0s 1ms/step - loss: 0.0099 - mse: 0.0099\n",
            "Epoch 22/100\n",
            "157/157 [==============================] - 0s 1ms/step - loss: 0.0096 - mse: 0.0096\n",
            "Epoch 23/100\n",
            "157/157 [==============================] - 0s 1ms/step - loss: 0.0094 - mse: 0.0094\n",
            "Epoch 24/100\n",
            "157/157 [==============================] - 0s 1ms/step - loss: 0.0093 - mse: 0.0093\n",
            "Epoch 25/100\n",
            "157/157 [==============================] - 0s 2ms/step - loss: 0.0091 - mse: 0.0091\n",
            "Epoch 26/100\n",
            "157/157 [==============================] - 0s 2ms/step - loss: 0.0090 - mse: 0.0090\n",
            "Epoch 27/100\n",
            "157/157 [==============================] - 0s 2ms/step - loss: 0.0090 - mse: 0.0090\n",
            "Epoch 28/100\n",
            "157/157 [==============================] - 0s 1ms/step - loss: 0.0089 - mse: 0.0089\n",
            "Epoch 29/100\n",
            "157/157 [==============================] - 0s 1ms/step - loss: 0.0088 - mse: 0.0088\n",
            "Epoch 30/100\n",
            "157/157 [==============================] - 0s 1ms/step - loss: 0.0088 - mse: 0.0088\n",
            "Epoch 31/100\n",
            "157/157 [==============================] - 0s 1ms/step - loss: 0.0088 - mse: 0.0088\n",
            "Epoch 32/100\n",
            "157/157 [==============================] - 0s 1ms/step - loss: 0.0087 - mse: 0.0087\n",
            "Epoch 33/100\n",
            "157/157 [==============================] - 0s 1ms/step - loss: 0.0087 - mse: 0.0087\n",
            "Epoch 34/100\n",
            "157/157 [==============================] - 0s 1ms/step - loss: 0.0087 - mse: 0.0087\n",
            "Epoch 35/100\n",
            "157/157 [==============================] - 0s 2ms/step - loss: 0.0087 - mse: 0.0087\n",
            "Epoch 36/100\n",
            "157/157 [==============================] - 0s 1ms/step - loss: 0.0087 - mse: 0.0087\n",
            "Epoch 37/100\n",
            "157/157 [==============================] - 0s 1ms/step - loss: 0.0087 - mse: 0.0087\n",
            "Epoch 38/100\n",
            "157/157 [==============================] - 0s 2ms/step - loss: 0.0087 - mse: 0.0087\n",
            "Epoch 39/100\n",
            "157/157 [==============================] - 0s 2ms/step - loss: 0.0087 - mse: 0.0087\n",
            "Epoch 40/100\n",
            "157/157 [==============================] - 0s 2ms/step - loss: 0.0087 - mse: 0.0087\n",
            "Epoch 41/100\n",
            "157/157 [==============================] - 0s 1ms/step - loss: 0.0087 - mse: 0.0087\n",
            "Epoch 42/100\n",
            "157/157 [==============================] - 0s 1ms/step - loss: 0.0087 - mse: 0.0087\n",
            "Epoch 43/100\n",
            "157/157 [==============================] - 0s 1ms/step - loss: 0.0086 - mse: 0.0086\n",
            "Epoch 44/100\n",
            "157/157 [==============================] - 0s 1ms/step - loss: 0.0087 - mse: 0.0087\n",
            "Epoch 45/100\n",
            "157/157 [==============================] - 0s 1ms/step - loss: 0.0086 - mse: 0.0086\n",
            "Epoch 46/100\n",
            "157/157 [==============================] - 0s 2ms/step - loss: 0.0086 - mse: 0.0086\n",
            "Epoch 47/100\n",
            "157/157 [==============================] - 0s 2ms/step - loss: 0.0086 - mse: 0.0086\n",
            "Epoch 48/100\n",
            "157/157 [==============================] - 0s 2ms/step - loss: 0.0086 - mse: 0.0086\n",
            "Epoch 49/100\n",
            "157/157 [==============================] - 0s 1ms/step - loss: 0.0086 - mse: 0.0086\n",
            "Epoch 50/100\n",
            "157/157 [==============================] - 0s 2ms/step - loss: 0.0086 - mse: 0.0086\n",
            "Epoch 51/100\n",
            "157/157 [==============================] - 0s 1ms/step - loss: 0.0086 - mse: 0.0086\n",
            "Epoch 52/100\n",
            "157/157 [==============================] - 0s 1ms/step - loss: 0.0086 - mse: 0.0086\n",
            "Epoch 53/100\n",
            "157/157 [==============================] - 0s 2ms/step - loss: 0.0086 - mse: 0.0086\n",
            "Epoch 54/100\n",
            "157/157 [==============================] - 0s 2ms/step - loss: 0.0086 - mse: 0.0086\n",
            "Epoch 55/100\n",
            "157/157 [==============================] - 0s 2ms/step - loss: 0.0086 - mse: 0.0086\n",
            "Epoch 56/100\n",
            "157/157 [==============================] - 0s 1ms/step - loss: 0.0086 - mse: 0.0086\n",
            "Epoch 57/100\n",
            "157/157 [==============================] - 0s 1ms/step - loss: 0.0086 - mse: 0.0086\n",
            "Epoch 58/100\n",
            "157/157 [==============================] - 0s 1ms/step - loss: 0.0086 - mse: 0.0086\n",
            "Epoch 59/100\n",
            "157/157 [==============================] - 0s 1ms/step - loss: 0.0086 - mse: 0.0086\n",
            "Epoch 60/100\n",
            "157/157 [==============================] - 0s 2ms/step - loss: 0.0086 - mse: 0.0086\n",
            "Epoch 61/100\n",
            "157/157 [==============================] - 0s 1ms/step - loss: 0.0086 - mse: 0.0086\n",
            "Epoch 62/100\n",
            "157/157 [==============================] - 0s 1ms/step - loss: 0.0086 - mse: 0.0086\n",
            "Epoch 63/100\n",
            "157/157 [==============================] - 0s 1ms/step - loss: 0.0086 - mse: 0.0086\n",
            "Epoch 64/100\n",
            "157/157 [==============================] - 0s 2ms/step - loss: 0.0086 - mse: 0.0086\n",
            "Epoch 65/100\n",
            "157/157 [==============================] - 0s 1ms/step - loss: 0.0086 - mse: 0.0086\n",
            "Epoch 66/100\n",
            "157/157 [==============================] - 0s 1ms/step - loss: 0.0086 - mse: 0.0086\n",
            "Epoch 67/100\n",
            "157/157 [==============================] - 0s 1ms/step - loss: 0.0086 - mse: 0.0086\n",
            "Epoch 68/100\n",
            "157/157 [==============================] - 0s 1ms/step - loss: 0.0086 - mse: 0.0086\n",
            "Epoch 69/100\n",
            "157/157 [==============================] - 0s 1ms/step - loss: 0.0086 - mse: 0.0086\n",
            "Epoch 70/100\n",
            "157/157 [==============================] - 0s 1ms/step - loss: 0.0086 - mse: 0.0086\n",
            "Epoch 71/100\n",
            "157/157 [==============================] - 0s 2ms/step - loss: 0.0086 - mse: 0.0086\n",
            "Epoch 72/100\n",
            "157/157 [==============================] - 0s 1ms/step - loss: 0.0086 - mse: 0.0086\n",
            "Epoch 73/100\n",
            "157/157 [==============================] - 0s 1ms/step - loss: 0.0086 - mse: 0.0086\n",
            "Epoch 74/100\n",
            "157/157 [==============================] - 0s 1ms/step - loss: 0.0086 - mse: 0.0086\n",
            "Epoch 75/100\n",
            "157/157 [==============================] - 0s 1ms/step - loss: 0.0086 - mse: 0.0086\n",
            "Epoch 76/100\n",
            "157/157 [==============================] - 0s 2ms/step - loss: 0.0086 - mse: 0.0086\n",
            "Epoch 77/100\n",
            "157/157 [==============================] - 0s 2ms/step - loss: 0.0086 - mse: 0.0086\n",
            "Epoch 78/100\n",
            "157/157 [==============================] - 0s 1ms/step - loss: 0.0086 - mse: 0.0086\n",
            "Epoch 79/100\n",
            "157/157 [==============================] - 0s 1ms/step - loss: 0.0086 - mse: 0.0086\n",
            "Epoch 80/100\n",
            "157/157 [==============================] - 0s 1ms/step - loss: 0.0086 - mse: 0.0086\n",
            "Epoch 81/100\n",
            "157/157 [==============================] - 0s 1ms/step - loss: 0.0086 - mse: 0.0086\n",
            "Epoch 82/100\n",
            "157/157 [==============================] - 0s 1ms/step - loss: 0.0086 - mse: 0.0086\n",
            "Epoch 83/100\n",
            "157/157 [==============================] - 0s 1ms/step - loss: 0.0086 - mse: 0.0086\n",
            "Epoch 84/100\n",
            "157/157 [==============================] - 0s 1ms/step - loss: 0.0086 - mse: 0.0086\n",
            "Epoch 85/100\n",
            "157/157 [==============================] - 0s 2ms/step - loss: 0.0086 - mse: 0.0086\n",
            "Epoch 86/100\n",
            "157/157 [==============================] - 0s 1ms/step - loss: 0.0086 - mse: 0.0086\n",
            "Epoch 87/100\n",
            "157/157 [==============================] - 0s 1ms/step - loss: 0.0086 - mse: 0.0086\n",
            "Epoch 88/100\n",
            "157/157 [==============================] - 0s 1ms/step - loss: 0.0086 - mse: 0.0086\n",
            "Epoch 89/100\n",
            "157/157 [==============================] - 0s 2ms/step - loss: 0.0086 - mse: 0.0086\n",
            "Epoch 90/100\n",
            "157/157 [==============================] - 0s 1ms/step - loss: 0.0086 - mse: 0.0086\n",
            "Epoch 91/100\n",
            "157/157 [==============================] - 0s 1ms/step - loss: 0.0086 - mse: 0.0086\n",
            "Epoch 92/100\n",
            "157/157 [==============================] - 0s 1ms/step - loss: 0.0086 - mse: 0.0086\n",
            "Epoch 93/100\n",
            "157/157 [==============================] - 0s 1ms/step - loss: 0.0086 - mse: 0.0086\n",
            "Epoch 94/100\n",
            "157/157 [==============================] - 0s 2ms/step - loss: 0.0086 - mse: 0.0086\n",
            "Epoch 95/100\n",
            "157/157 [==============================] - 0s 2ms/step - loss: 0.0086 - mse: 0.0086\n",
            "Epoch 96/100\n",
            "157/157 [==============================] - 0s 2ms/step - loss: 0.0086 - mse: 0.0086\n",
            "Epoch 97/100\n",
            "157/157 [==============================] - 0s 1ms/step - loss: 0.0086 - mse: 0.0086\n",
            "Epoch 98/100\n",
            "157/157 [==============================] - 0s 2ms/step - loss: 0.0086 - mse: 0.0086\n",
            "Epoch 99/100\n",
            "157/157 [==============================] - 0s 1ms/step - loss: 0.0086 - mse: 0.0086\n",
            "Epoch 100/100\n",
            "157/157 [==============================] - 0s 1ms/step - loss: 0.0086 - mse: 0.0086\n"
          ]
        }
      ]
    },
    {
      "cell_type": "code",
      "source": [
        "mse = history.history['mse']\n",
        "\n",
        "epochs = range(len(mse))\n",
        "\n",
        "plt.plot(epochs, mse, 'r', label='mse')\n",
        "plt.title('mean squared error')\n",
        "plt.legend(loc=0)\n",
        "plt.figure()\n",
        "\n",
        "plt.show()"
      ],
      "metadata": {
        "colab": {
          "base_uri": "https://localhost:8080/",
          "height": 298
        },
        "id": "aHSXDwFUupEI",
        "outputId": "89ca9437-10cd-4993-fa42-84218f1773dd"
      },
      "execution_count": 7,
      "outputs": [
        {
          "output_type": "display_data",
          "data": {
            "text/plain": [
              "<Figure size 432x288 with 1 Axes>"
            ],
            "image/png": "[encoded data removed]"
          },
          "metadata": {
            "needs_background": "light"
          }
        },
        {
          "output_type": "display_data",
          "data": {
            "text/plain": [
              "<Figure size 432x288 with 0 Axes>"
            ]
          },
          "metadata": {}
        }
      ]
    },
    {
      "cell_type": "code",
      "source": [
        "list = [[1, 0.36, 0.2]]\n",
        "df_predict = pd.DataFrame(list, columns=['week', 'enter_hour', 'spent_hours'], dtype = float) \n",
        "print(df_predict)"
      ],
      "metadata": {
        "colab": {
          "base_uri": "https://localhost:8080/"
        },
        "id": "mEMMB1JLwe8e",
        "outputId": "8941e566-faf7-4a05-f9c1-a17a86e981ab"
      },
      "execution_count": 8,
      "outputs": [
        {
          "output_type": "stream",
          "name": "stdout",
          "text": [
            "   week  enter_hour  spent_hours\n",
            "0   1.0        0.36          0.2\n"
          ]
        }
      ]
    },
    {
      "cell_type": "code",
      "source": [
        "prediction = model.predict(df_predict.iloc[:, :])\n",
        "fee_predict = prediction[0][0]\n",
        "print(df_predict)\n",
        "print(\"estimated fee: ${:.2f}\".format(fee_predict*10))"
      ],
      "metadata": {
        "colab": {
          "base_uri": "https://localhost:8080/"
        },
        "id": "RT-swci6zgJu",
        "outputId": "2336d7a8-ab7c-4fd8-ebf5-c5d82424878c"
      },
      "execution_count": 9,
      "outputs": [
        {
          "output_type": "stream",
          "name": "stdout",
          "text": [
            "   week  enter_hour  spent_hours\n",
            "0   1.0        0.36          0.2\n",
            "estimated fee: $5.35\n"
          ]
        }
      ]
    },
    {
      "cell_type": "code",
      "source": [
        "import time\n",
        "saved_model_path = \"./dynamic_{}.h5\".format(int(time.time()))\n",
        "\n",
        "model.save(saved_model_path)"
      ],
      "metadata": {
        "id": "vUHBGpdW7Ygs"
      },
      "execution_count": 14,
      "outputs": []
    },
    {
      "cell_type": "code",
      "source": [
        "!pip install tensorflowjs"
      ],
      "metadata": {
        "colab": {
          "base_uri": "https://localhost:8080/",
          "height": 1000
        },
        "id": "ChoJTE-MaT2b",
        "outputId": "8a60e5b8-30ea-458c-8788-81510e9e3e23"
      },
      "execution_count": 16,
      "outputs": [
        {
          "output_type": "stream",
          "name": "stdout",
          "text": [
            "Looking in indexes: https://pypi.org/simple, https://us-python.pkg.dev/colab-wheels/public/simple/\n",
            "Collecting tensorflowjs\n",
            "  Downloading tensorflowjs-3.18.0-py3-none-any.whl (77 kB)\n",
            "\u001b[K     |████████████████████████████████| 77 kB 3.2 MB/s \n",
            "\u001b[?25hRequirement already satisfied: six<2,>=1.12.0 in /usr/local/lib/python3.7/dist-packages (from tensorflowjs) (1.15.0)\n",
            "Requirement already satisfied: tensorflow-hub<0.13,>=0.7.0 in /usr/local/lib/python3.7/dist-packages (from tensorflowjs) (0.12.0)\n",
            "Requirement already satisfied: tensorflow<3,>=2.1.0 in /usr/local/lib/python3.7/dist-packages (from tensorflowjs) (2.8.0+zzzcolab20220506162203)\n",
            "Collecting packaging~=20.9\n",
            "  Downloading packaging-20.9-py2.py3-none-any.whl (40 kB)\n",
            "\u001b[K     |████████████████████████████████| 40 kB 5.4 MB/s \n",
            "\u001b[?25hRequirement already satisfied: pyparsing>=2.0.2 in /usr/local/lib/python3.7/dist-packages (from packaging~=20.9->tensorflowjs) (3.0.9)\n",
            "Requirement already satisfied: libclang>=9.0.1 in /usr/local/lib/python3.7/dist-packages (from tensorflow<3,>=2.1.0->tensorflowjs) (14.0.1)\n",
            "Requirement already satisfied: gast>=0.2.1 in /usr/local/lib/python3.7/dist-packages (from tensorflow<3,>=2.1.0->tensorflowjs) (0.5.3)\n",
            "Requirement already satisfied: termcolor>=1.1.0 in /usr/local/lib/python3.7/dist-packages (from tensorflow<3,>=2.1.0->tensorflowjs) (1.1.0)\n",
            "Collecting tf-estimator-nightly==2.8.0.dev2021122109\n",
            "  Downloading tf_estimator_nightly-2.8.0.dev2021122109-py2.py3-none-any.whl (462 kB)\n",
            "\u001b[K     |████████████████████████████████| 462 kB 11.3 MB/s \n",
            "\u001b[?25hRequirement already satisfied: protobuf>=3.9.2 in /usr/local/lib/python3.7/dist-packages (from tensorflow<3,>=2.1.0->tensorflowjs) (3.17.3)\n",
            "Requirement already satisfied: google-pasta>=0.1.1 in /usr/local/lib/python3.7/dist-packages (from tensorflow<3,>=2.1.0->tensorflowjs) (0.2.0)\n",
            "Requirement already satisfied: grpcio<2.0,>=1.24.3 in /usr/local/lib/python3.7/dist-packages (from tensorflow<3,>=2.1.0->tensorflowjs) (1.46.1)\n",
            "Requirement already satisfied: tensorboard<2.9,>=2.8 in /usr/local/lib/python3.7/dist-packages (from tensorflow<3,>=2.1.0->tensorflowjs) (2.8.0)\n",
            "Requirement already satisfied: absl-py>=0.4.0 in /usr/local/lib/python3.7/dist-packages (from tensorflow<3,>=2.1.0->tensorflowjs) (1.0.0)\n",
            "Requirement already satisfied: keras-preprocessing>=1.1.1 in /usr/local/lib/python3.7/dist-packages (from tensorflow<3,>=2.1.0->tensorflowjs) (1.1.2)\n",
            "Requirement already satisfied: opt-einsum>=2.3.2 in /usr/local/lib/python3.7/dist-packages (from tensorflow<3,>=2.1.0->tensorflowjs) (3.3.0)\n",
            "Requirement already satisfied: tensorflow-io-gcs-filesystem>=0.23.1 in /usr/local/lib/python3.7/dist-packages (from tensorflow<3,>=2.1.0->tensorflowjs) (0.26.0)\n",
            "Requirement already satisfied: typing-extensions>=3.6.6 in /usr/local/lib/python3.7/dist-packages (from tensorflow<3,>=2.1.0->tensorflowjs) (4.2.0)\n",
            "Requirement already satisfied: wrapt>=1.11.0 in /usr/local/lib/python3.7/dist-packages (from tensorflow<3,>=2.1.0->tensorflowjs) (1.14.1)\n",
            "Requirement already satisfied: numpy>=1.20 in /usr/local/lib/python3.7/dist-packages (from tensorflow<3,>=2.1.0->tensorflowjs) (1.21.6)\n",
            "Requirement already satisfied: h5py>=2.9.0 in /usr/local/lib/python3.7/dist-packages (from tensorflow<3,>=2.1.0->tensorflowjs) (3.1.0)\n",
            "Requirement already satisfied: setuptools in /usr/local/lib/python3.7/dist-packages (from tensorflow<3,>=2.1.0->tensorflowjs) (57.4.0)\n",
            "Requirement already satisfied: keras<2.9,>=2.8.0rc0 in /usr/local/lib/python3.7/dist-packages (from tensorflow<3,>=2.1.0->tensorflowjs) (2.8.0)\n",
            "Requirement already satisfied: astunparse>=1.6.0 in /usr/local/lib/python3.7/dist-packages (from tensorflow<3,>=2.1.0->tensorflowjs) (1.6.3)\n",
            "Requirement already satisfied: flatbuffers>=1.12 in /usr/local/lib/python3.7/dist-packages (from tensorflow<3,>=2.1.0->tensorflowjs) (2.0)\n",
            "Requirement already satisfied: wheel<1.0,>=0.23.0 in /usr/local/lib/python3.7/dist-packages (from astunparse>=1.6.0->tensorflow<3,>=2.1.0->tensorflowjs) (0.37.1)\n",
            "Requirement already satisfied: cached-property in /usr/local/lib/python3.7/dist-packages (from h5py>=2.9.0->tensorflow<3,>=2.1.0->tensorflowjs) (1.5.2)\n",
            "Requirement already satisfied: werkzeug>=0.11.15 in /usr/local/lib/python3.7/dist-packages (from tensorboard<2.9,>=2.8->tensorflow<3,>=2.1.0->tensorflowjs) (1.0.1)\n",
            "Requirement already satisfied: tensorboard-plugin-wit>=1.6.0 in /usr/local/lib/python3.7/dist-packages (from tensorboard<2.9,>=2.8->tensorflow<3,>=2.1.0->tensorflowjs) (1.8.1)\n",
            "Requirement already satisfied: requests<3,>=2.21.0 in /usr/local/lib/python3.7/dist-packages (from tensorboard<2.9,>=2.8->tensorflow<3,>=2.1.0->tensorflowjs) (2.23.0)\n",
            "Requirement already satisfied: google-auth<3,>=1.6.3 in /usr/local/lib/python3.7/dist-packages (from tensorboard<2.9,>=2.8->tensorflow<3,>=2.1.0->tensorflowjs) (1.35.0)\n",
            "Requirement already satisfied: tensorboard-data-server<0.7.0,>=0.6.0 in /usr/local/lib/python3.7/dist-packages (from tensorboard<2.9,>=2.8->tensorflow<3,>=2.1.0->tensorflowjs) (0.6.1)\n",
            "Requirement already satisfied: google-auth-oauthlib<0.5,>=0.4.1 in /usr/local/lib/python3.7/dist-packages (from tensorboard<2.9,>=2.8->tensorflow<3,>=2.1.0->tensorflowjs) (0.4.6)\n",
            "Requirement already satisfied: markdown>=2.6.8 in /usr/local/lib/python3.7/dist-packages (from tensorboard<2.9,>=2.8->tensorflow<3,>=2.1.0->tensorflowjs) (3.3.7)\n",
            "Requirement already satisfied: cachetools<5.0,>=2.0.0 in /usr/local/lib/python3.7/dist-packages (from google-auth<3,>=1.6.3->tensorboard<2.9,>=2.8->tensorflow<3,>=2.1.0->tensorflowjs) (4.2.4)\n",
            "Requirement already satisfied: pyasn1-modules>=0.2.1 in /usr/local/lib/python3.7/dist-packages (from google-auth<3,>=1.6.3->tensorboard<2.9,>=2.8->tensorflow<3,>=2.1.0->tensorflowjs) (0.2.8)\n",
            "Requirement already satisfied: rsa<5,>=3.1.4 in /usr/local/lib/python3.7/dist-packages (from google-auth<3,>=1.6.3->tensorboard<2.9,>=2.8->tensorflow<3,>=2.1.0->tensorflowjs) (4.8)\n",
            "Requirement already satisfied: requests-oauthlib>=0.7.0 in /usr/local/lib/python3.7/dist-packages (from google-auth-oauthlib<0.5,>=0.4.1->tensorboard<2.9,>=2.8->tensorflow<3,>=2.1.0->tensorflowjs) (1.3.1)\n",
            "Requirement already satisfied: importlib-metadata>=4.4 in /usr/local/lib/python3.7/dist-packages (from markdown>=2.6.8->tensorboard<2.9,>=2.8->tensorflow<3,>=2.1.0->tensorflowjs) (4.11.3)\n",
            "Requirement already satisfied: zipp>=0.5 in /usr/local/lib/python3.7/dist-packages (from importlib-metadata>=4.4->markdown>=2.6.8->tensorboard<2.9,>=2.8->tensorflow<3,>=2.1.0->tensorflowjs) (3.8.0)\n",
            "Requirement already satisfied: pyasn1<0.5.0,>=0.4.6 in /usr/local/lib/python3.7/dist-packages (from pyasn1-modules>=0.2.1->google-auth<3,>=1.6.3->tensorboard<2.9,>=2.8->tensorflow<3,>=2.1.0->tensorflowjs) (0.4.8)\n",
            "Requirement already satisfied: chardet<4,>=3.0.2 in /usr/local/lib/python3.7/dist-packages (from requests<3,>=2.21.0->tensorboard<2.9,>=2.8->tensorflow<3,>=2.1.0->tensorflowjs) (3.0.4)\n",
            "Requirement already satisfied: certifi>=2017.4.17 in /usr/local/lib/python3.7/dist-packages (from requests<3,>=2.21.0->tensorboard<2.9,>=2.8->tensorflow<3,>=2.1.0->tensorflowjs) (2022.5.18.1)\n",
            "Requirement already satisfied: urllib3!=1.25.0,!=1.25.1,<1.26,>=1.21.1 in /usr/local/lib/python3.7/dist-packages (from requests<3,>=2.21.0->tensorboard<2.9,>=2.8->tensorflow<3,>=2.1.0->tensorflowjs) (1.24.3)\n",
            "Requirement already satisfied: idna<3,>=2.5 in /usr/local/lib/python3.7/dist-packages (from requests<3,>=2.21.0->tensorboard<2.9,>=2.8->tensorflow<3,>=2.1.0->tensorflowjs) (2.10)\n",
            "Requirement already satisfied: oauthlib>=3.0.0 in /usr/local/lib/python3.7/dist-packages (from requests-oauthlib>=0.7.0->google-auth-oauthlib<0.5,>=0.4.1->tensorboard<2.9,>=2.8->tensorflow<3,>=2.1.0->tensorflowjs) (3.2.0)\n",
            "Installing collected packages: tf-estimator-nightly, packaging, tensorflowjs\n",
            "  Attempting uninstall: packaging\n",
            "    Found existing installation: packaging 21.3\n",
            "    Uninstalling packaging-21.3:\n",
            "      Successfully uninstalled packaging-21.3\n",
            "\u001b[31mERROR: pip's dependency resolver does not currently take into account all the packages that are installed. This behaviour is the source of the following dependency conflicts.\n",
            "datascience 0.10.6 requires folium==0.2.1, but you have folium 0.8.3 which is incompatible.\u001b[0m\n",
            "Successfully installed packaging-20.9 tensorflowjs-3.18.0 tf-estimator-nightly-2.8.0.dev2021122109\n"
          ]
        },
        {
          "output_type": "display_data",
          "data": {
            "application/vnd.colab-display-data+json": {
              "pip_warning": {
                "packages": [
                  "packaging"
                ]
              }
            }
          },
          "metadata": {}
        }
      ]
    },
    {
      "cell_type": "code",
      "source": [
        "!tensorflowjs_converter --input_format=keras {saved_model_path} ./"
      ],
      "metadata": {
        "id": "rasPQcN-Y9c2"
      },
      "execution_count": 17,
      "outputs": []
    }
  ]
}